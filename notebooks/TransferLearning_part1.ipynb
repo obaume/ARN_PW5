{
 "cells": [
  {
   "cell_type": "markdown",
   "metadata": {},
   "source": [
    "## Let's create a dataset by downloading images from Bing"
   ]
  },
  {
   "cell_type": "code",
   "execution_count": 1,
   "metadata": {
    "scrolled": true
   },
   "outputs": [
    {
     "name": "stdout",
     "output_type": "stream",
     "text": [
      "Requirement already satisfied: bing-image-downloader==1.0.4 in c:\\users\\gilli\\anaconda3\\lib\\site-packages (1.0.4)\n"
     ]
    }
   ],
   "source": [
    "!pip install bing-image-downloader==1.0.4\n",
    "\n",
    "from bing_image_downloader import downloader"
   ]
  },
  {
   "cell_type": "code",
   "execution_count": null,
   "metadata": {},
   "outputs": [
    {
     "name": "stdout",
     "output_type": "stream",
     "text": [
      "\n",
      "\n",
      "[!!]Indexing page: 1\n",
      "\n",
      "[%] Indexed 35 Images on Page 1.\n",
      "\n",
      "===============================================\n",
      "\n",
      "[%] Downloading Image #1 from https://img.fotocommunity.com/mesange-noire-fb51f603-a966-477a-8c3e-2a4470f3933a.jpg?height=1080\n",
      "[%] File Downloaded !\n",
      "\n",
      "[%] Downloading Image #2 from https://img.fotocommunity.com/mesange-noire-17a8f1f0-8d02-418c-b8d4-d9586a8cba55.jpg?height=1080\n",
      "[%] File Downloaded !\n",
      "\n",
      "[%] Downloading Image #3 from https://img.fotocommunity.com/mesange-noire-19f7470c-d9ac-4666-ad8d-7c308921fca1.jpg?height=1080\n",
      "[%] File Downloaded !\n",
      "\n",
      "[%] Downloading Image #4 from https://naturephoto.pagesperso-orange.fr/Files/Image/Oiseaux/Photos/Mesange noire/Mesange noire 1.jpg\n",
      "[!] Issue getting: https://naturephoto.pagesperso-orange.fr/Files/Image/Oiseaux/Photos/Mesange noire/Mesange noire 1.jpg\n",
      "[!] Error:: URL can't contain control characters. '/Files/Image/Oiseaux/Photos/Mesange noire/Mesange noire 1.jpg' (found at least ' ')\n",
      "[%] Downloading Image #4 from https://www.oiseaux.net/photos/marc.fasol/images/mesange.noire.mafa.6g.jpg\n",
      "[%] File Downloaded !\n",
      "\n",
      "[%] Downloading Image #5 from http://oiseau-mesange.fr/wp-content/uploads/2013/01/Mésange-noire-02.jpg\n",
      "[!] Issue getting: http://oiseau-mesange.fr/wp-content/uploads/2013/01/Mésange-noire-02.jpg\n",
      "[!] Error:: 'ascii' codec can't encode character '\\xe9' in position 33: ordinal not in range(128)\n",
      "[%] Downloading Image #5 from https://www.oiseaux.net/photos/nick.smith/images/mesange.noire.nism.2g.jpg\n",
      "[%] File Downloaded !\n",
      "\n",
      "[%] Downloading Image #6 from http://www.ouessant-digiscoping.fr/IMG/jpg/Mesange_noire_2B_13112011_-_Le_Monetier_les_bains.jpg\n",
      "[%] File Downloaded !\n",
      "\n",
      "[%] Downloading Image #7 from http://oiseau-mesange.fr/wp-content/uploads/2013/01/Mésange-noire-01.jpg\n",
      "[!] Issue getting: http://oiseau-mesange.fr/wp-content/uploads/2013/01/Mésange-noire-01.jpg\n",
      "[!] Error:: 'ascii' codec can't encode character '\\xe9' in position 33: ordinal not in range(128)\n",
      "[%] Downloading Image #7 from https://i.ytimg.com/vi/4GRwOM5VUYk/maxresdefault.jpg\n",
      "[%] File Downloaded !\n",
      "\n",
      "[%] Downloading Image #8 from https://img.fotocommunity.com/mesange-noire-b4bacc31-e3bc-4820-af8a-99b251f26403.jpg?height=1080\n",
      "[%] File Downloaded !\n",
      "\n",
      "[%] Downloading Image #9 from http://oiseau-mesange.fr/wp-content/uploads/2013/01/Mésange-noire-05.jpg\n",
      "[!] Issue getting: http://oiseau-mesange.fr/wp-content/uploads/2013/01/Mésange-noire-05.jpg\n",
      "[!] Error:: 'ascii' codec can't encode character '\\xe9' in position 33: ordinal not in range(128)\n",
      "[%] Downloading Image #9 from http://www.oiseaux.net/photos/rene.dumoulin/images/mesange.noire.redu.10g.jpg\n",
      "[%] File Downloaded !\n",
      "\n",
      "[%] Downloading Image #10 from https://www.oiseaux.net/photos/patrick.fichter/images/mesange.noire.pafi.20g.jpg\n",
      "[%] File Downloaded !\n",
      "\n",
      "[%] Downloading Image #11 from http://luberon.fr/img/article/mesange-noire.jpg\n",
      "[%] File Downloaded !\n",
      "\n",
      "[%] Downloading Image #12 from http://www.oiseaux.net/photos/patrick.fichter/images/mesange.noire.pafi.25g.800.w.jpg\n",
      "[%] File Downloaded !\n",
      "\n",
      "[%] Downloading Image #13 from https://www.oiseaux.net/photos/patrick.fichter/images/mesange.noire.pafi.9g.jpg\n",
      "[%] File Downloaded !\n",
      "\n",
      "[%] Downloading Image #14 from https://www.oiseaux.net/photos/titouan.roguet/images/mesange.noire.tiro.7g.800.w.jpg\n",
      "[%] File Downloaded !\n",
      "\n",
      "[%] Downloading Image #15 from https://www.oiseaux.net/photos/titouan.roguet/images/mesange.noire.tiro.10g.800.w.jpg\n",
      "[%] File Downloaded !\n",
      "\n",
      "[%] Downloading Image #16 from https://www.oiseaux.net/photos/herve.enoch/images/mesange.noire.heen.5g.jpg\n",
      "[%] File Downloaded !\n",
      "\n",
      "[%] Downloading Image #17 from https://www.oiseaux.net/photos/aurelien.audevard/images/mesange.noire.auau.7g.jpg\n",
      "[%] File Downloaded !\n",
      "\n",
      "[%] Downloading Image #18 from https://paca.lpo.fr/images/mediatheque/images/section_actualite/2017/10/mesange_noire_aurelien_audevard.jpg\n",
      "[%] File Downloaded !\n",
      "\n",
      "[%] Downloading Image #19 from https://www.oisillon.net/img/oiseaux/photo2/56-zoom.jpg\n",
      "[%] File Downloaded !\n",
      "\n",
      "[%] Downloading Image #20 from https://www.photos-oiseaux.ch/wp-content/uploads/2015/06/copie-1000-pix-121113.jpg\n",
      "[%] File Downloaded !\n",
      "\n",
      "[%] Downloading Image #21 from https://www.oiseaux.net/photos/christophe.mercier/images/mesange.noire.chme.1g.jpg\n",
      "[%] File Downloaded !\n",
      "\n",
      "[%] Downloading Image #22 from https://www.oiseaux.net/photos/nick.smith/images/mesange.noire.nism.3g.jpg\n",
      "[%] File Downloaded !\n",
      "\n",
      "[%] Downloading Image #23 from https://master.salamandre.net/media/21911/Mesange-nonnette-iStock_26069040_XLARGE-1-1787x1200.jpg\n",
      "[%] File Downloaded !\n",
      "\n",
      "[%] Downloading Image #24 from https://www.oiseaux.net/photos/patrick.fichter/images/mesange.noire.pafi.30g.800.w.jpg\n",
      "[%] File Downloaded !\n",
      "\n",
      "[%] Downloading Image #25 from https://www.oiseaux.net/photos/rene.dumoulin/images/mesange.noire.redu.6g.jpg\n",
      "[%] File Downloaded !\n",
      "\n",
      "[%] Downloading Image #26 from https://www.oiseaux.net/photos/rene.dumoulin/images/mesange.noire.redu.14g.jpg\n",
      "[%] File Downloaded !\n",
      "\n",
      "[%] Downloading Image #27 from https://www.oiseaux.net/photos/gilbert.blaising/images/mesange.noire.gibl.5g.jpg\n",
      "[%] File Downloaded !\n",
      "\n",
      "[%] Downloading Image #28 from https://www.oiseaux.net/photos/michel.lamarche/images/mesange.a.tete.noire.mila.25g.jpg\n",
      "[%] File Downloaded !\n",
      "\n",
      "[%] Downloading Image #29 from https://live.staticflickr.com/4516/24566721068_1e75d4e282_b.jpg\n",
      "[%] File Downloaded !\n",
      "\n",
      "[%] Downloading Image #30 from https://www.oiseaux.net/photos/lars.petersson/images/mesange.noire.lape.7g.jpg\n",
      "[%] File Downloaded !\n",
      "\n",
      "[%] Downloading Image #31 from https://viagallica.com/a/img/mesange_noire_012.jpg\n",
      "[%] File Downloaded !\n",
      "\n",
      "\n",
      "\n",
      "[!!]Indexing page: 2\n",
      "\n",
      "[%] Indexed 35 Images on Page 2.\n",
      "\n",
      "===============================================\n",
      "\n",
      "[%] Downloading Image #32 from https://img.fotocommunity.com/mesange-noire-fb51f603-a966-477a-8c3e-2a4470f3933a.jpg?height=1080\n",
      "[%] File Downloaded !\n",
      "\n",
      "[%] Downloading Image #33 from https://img.fotocommunity.com/mesange-noire-17a8f1f0-8d02-418c-b8d4-d9586a8cba55.jpg?height=1080\n",
      "[%] File Downloaded !\n",
      "\n",
      "[%] Downloading Image #34 from https://img.fotocommunity.com/mesange-noire-19f7470c-d9ac-4666-ad8d-7c308921fca1.jpg?height=1080\n",
      "[%] File Downloaded !\n",
      "\n",
      "[%] Downloading Image #35 from https://www.oiseaux.net/photos/patrick.fichter/images/mesange.noire.pafi.20g.jpg\n",
      "[%] File Downloaded !\n",
      "\n",
      "[%] Downloading Image #36 from http://oiseau-mesange.fr/wp-content/uploads/2013/01/Mésange-noire-02.jpg\n",
      "[!] Issue getting: http://oiseau-mesange.fr/wp-content/uploads/2013/01/Mésange-noire-02.jpg\n",
      "[!] Error:: 'ascii' codec can't encode character '\\xe9' in position 33: ordinal not in range(128)\n",
      "[%] Downloading Image #36 from https://img.fotocommunity.com/mesange-noire-b4bacc31-e3bc-4820-af8a-99b251f26403.jpg?height=1080\n",
      "[%] File Downloaded !\n",
      "\n",
      "[%] Downloading Image #37 from http://oiseau-mesange.fr/wp-content/uploads/2013/01/Mésange-noire-05.jpg\n",
      "[!] Issue getting: http://oiseau-mesange.fr/wp-content/uploads/2013/01/Mésange-noire-05.jpg\n",
      "[!] Error:: 'ascii' codec can't encode character '\\xe9' in position 33: ordinal not in range(128)\n",
      "[%] Downloading Image #37 from https://www.oiseaux.net/photos/nick.smith/images/mesange.noire.nism.2g.jpg\n",
      "[%] File Downloaded !\n",
      "\n",
      "[%] Downloading Image #38 from http://oiseau-mesange.fr/wp-content/uploads/2013/01/Mésange-noire-01.jpg\n",
      "[!] Issue getting: http://oiseau-mesange.fr/wp-content/uploads/2013/01/Mésange-noire-01.jpg\n",
      "[!] Error:: 'ascii' codec can't encode character '\\xe9' in position 33: ordinal not in range(128)\n",
      "[%] Downloading Image #38 from http://www.oiseaux.net/photos/patrick.fichter/images/mesange.noire.pafi.25g.800.w.jpg\n",
      "[%] File Downloaded !\n",
      "\n",
      "[%] Downloading Image #39 from https://i.ytimg.com/vi/4GRwOM5VUYk/maxresdefault.jpg\n",
      "[%] File Downloaded !\n",
      "\n",
      "[%] Downloading Image #40 from https://www.oiseaux.net/photos/patrick.fichter/images/mesange.noire.pafi.9g.jpg\n",
      "[%] File Downloaded !\n",
      "\n",
      "[%] Downloading Image #41 from https://naturephoto.pagesperso-orange.fr/Files/Image/Oiseaux/Photos/Mesange noire/Mesange noire 1.jpg\n",
      "[!] Issue getting: https://naturephoto.pagesperso-orange.fr/Files/Image/Oiseaux/Photos/Mesange noire/Mesange noire 1.jpg\n",
      "[!] Error:: URL can't contain control characters. '/Files/Image/Oiseaux/Photos/Mesange noire/Mesange noire 1.jpg' (found at least ' ')\n",
      "[%] Downloading Image #41 from https://www.oiseaux.net/photos/titouan.roguet/images/mesange.noire.tiro.10g.800.w.jpg\n",
      "[%] File Downloaded !\n",
      "\n",
      "[%] Downloading Image #42 from https://www.oiseaux.net/photos/titouan.roguet/images/mesange.noire.tiro.7g.800.w.jpg\n",
      "[%] File Downloaded !\n",
      "\n",
      "[%] Downloading Image #43 from https://www.oiseaux.net/photos/marc.fasol/images/mesange.noire.mafa.6g.jpg\n"
     ]
    },
    {
     "name": "stdout",
     "output_type": "stream",
     "text": [
      "[%] File Downloaded !\n",
      "\n",
      "[%] Downloading Image #44 from http://www.ouessant-digiscoping.fr/IMG/jpg/Mesange_noire_2B_13112011_-_Le_Monetier_les_bains.jpg\n"
     ]
    }
   ],
   "source": [
    "QUERIES = [\"Mésange noire\", \"Mésange charbonnière\", \"Moineau\"]\n",
    "OUTPUT_DIR = 'dataset_images'\n",
    "NB_IMAGES = 50\n",
    "\n",
    "for query in QUERIES:\n",
    "    downloader.download(\n",
    "        query, NB_IMAGES, OUTPUT_DIR,\n",
    "        adult_filter_off=False, force_replace=False, timeout=15\n",
    "    )"
   ]
  },
  {
   "cell_type": "markdown",
   "metadata": {},
   "source": [
    "### Generate a dataframe from the downloaded images"
   ]
  },
  {
   "cell_type": "code",
   "execution_count": null,
   "metadata": {},
   "outputs": [],
   "source": [
    "import os\n",
    "import pandas as pd\n",
    "from glob import glob\n",
    "\n",
    "data = []\n",
    "\n",
    "for label_dir in os.listdir(OUTPUT_DIR):\n",
    "    if os.path.isfile(label_dir):\n",
    "        continue\n",
    "    \n",
    "    label_path_path = os.path.join(OUTPUT_DIR, label_dir)\n",
    "    for file in os.listdir(label_path_path):\n",
    "        data.append([os.path.join(label_path_path, file), label_dir])\n",
    "        \n",
    "dataframe = pd.DataFrame(data, columns = [\"path\", \"label\"])\n",
    "dataframe"
   ]
  },
  {
   "cell_type": "code",
   "execution_count": null,
   "metadata": {},
   "outputs": [],
   "source": [
    "import numpy as np\n",
    "import PIL\n",
    "import PIL.Image\n",
    " \n",
    "dataframe['shape'] = dataframe['path'].map(lambda x:len(np.asarray(PIL.Image.open(x)).shape))\n",
    " \n",
    "# remove problematic pictures\n",
    "dataframe = dataframe[dataframe['shape'] == 3].copy()\n",
    "dataframe.reset_index(inplace=True, drop=True)"
   ]
  },
  {
   "cell_type": "markdown",
   "metadata": {},
   "source": [
    "### Show some images of the dataset"
   ]
  },
  {
   "cell_type": "code",
   "execution_count": null,
   "metadata": {},
   "outputs": [],
   "source": [
    "import matplotlib.pyplot as plt\n",
    "import PIL\n",
    "import PIL.Image\n",
    " \n",
    "plt.figure(figsize=(20, 20))\n",
    "\n",
    "i = 0\n",
    "for _, rowdata in dataframe.sample(frac=1).head(9).iterrows():\n",
    "    ax = plt.subplot(3, 3, i + 1)\n",
    "    plt.imshow(PIL.Image.open(rowdata.path))\n",
    "    plt.title(rowdata.label)\n",
    "    plt.axis(\"off\")\n",
    "    i += 1"
   ]
  },
  {
   "cell_type": "markdown",
   "metadata": {},
   "source": [
    "## Fetch MobileNetV2 model"
   ]
  },
  {
   "cell_type": "code",
   "execution_count": null,
   "metadata": {},
   "outputs": [],
   "source": [
    "from tensorflow.keras.applications import MobileNetV2\n",
    "\n",
    "base_model = MobileNetV2(\n",
    "    input_shape=(224, 224, 3),\n",
    "    weights='imagenet',\n",
    "    include_top=False # We don't want to include the fully-connected layers\n",
    ")"
   ]
  },
  {
   "cell_type": "code",
   "execution_count": null,
   "metadata": {},
   "outputs": [],
   "source": [
    "# You can see the list of layers of this model\n",
    "base_model.layers"
   ]
  },
  {
   "cell_type": "code",
   "execution_count": null,
   "metadata": {},
   "outputs": [],
   "source": [
    "from tensorflow.keras.optimizers import RMSprop\n",
    "from tensorflow.keras.losses import SparseCategoricalCrossentropy\n",
    "from tensorflow.keras import Model\n",
    "from tensorflow.keras.layers import (\n",
    "    Flatten,\n",
    "    Dense,\n",
    "    Dropout\n",
    ")\n",
    "\n",
    "def get_model():\n",
    "    # We want to add layers on top of the base (here MobileNetV2) model\n",
    "    layers = base_model.output\n",
    "\n",
    "    # We need to flatten\n",
    "    layers = Flatten()(layers)\n",
    "\n",
    "    # TODO: add some dense layers here\n",
    "    layers = Dense(len(QUERIES), activation='relu')(layers)\n",
    "\n",
    "    # We must add an output layer\n",
    "    output = Dense(len(QUERIES), activation='softmax')(layers) # final layer with softmax activation\n",
    "\n",
    "    model = Model(inputs=base_model.input, outputs=output)\n",
    "\n",
    "    # TODO: freeze the base model layers (not the layers you've added obviously)\n",
    "    # NOTE:\n",
    "    # to feeze a layer you can set its trainable flag to False (e.g. layer.trainable = False)\n",
    "    # to get a list of the model layers you can do model.layers\n",
    "    for layer in model.layers:\n",
    "        layer.trainable = False\n",
    "    \n",
    "    model.compile(\n",
    "      optimizer = RMSprop(),\n",
    "      # Sparse categorical crossentropy is used when we have target class as integers\n",
    "      loss = SparseCategoricalCrossentropy(),\n",
    "      metrics = ['acc']\n",
    "    )\n",
    "        \n",
    "    return model"
   ]
  },
  {
   "cell_type": "code",
   "execution_count": null,
   "metadata": {},
   "outputs": [],
   "source": [
    "get_model().summary()"
   ]
  },
  {
   "cell_type": "markdown",
   "metadata": {},
   "source": [
    "## Cross validate model"
   ]
  },
  {
   "cell_type": "code",
   "execution_count": null,
   "metadata": {},
   "outputs": [],
   "source": [
    "from tensorflow.keras.layers import Resizing, Rescaling\n",
    "from tensorflow.keras import Sequential\n",
    "\n",
    "IMG_HEIGHT = 224\n",
    "IMG_WIDTH = 224\n",
    "\n",
    "image_preprocesses = Sequential([\n",
    "    Resizing(IMG_HEIGHT, IMG_WIDTH, crop_to_aspect_ratio=True),\n",
    "    Rescaling(1. / 255)\n",
    "])"
   ]
  },
  {
   "cell_type": "code",
   "execution_count": null,
   "metadata": {},
   "outputs": [],
   "source": [
    "def open_images(paths):\n",
    "    images = []\n",
    "    for path in paths:\n",
    "        with PIL.Image.open(path) as image:\n",
    "            images.append(image_preprocesses(np.asarray(image)))\n",
    "            \n",
    "    return np.array(images)"
   ]
  },
  {
   "cell_type": "code",
   "execution_count": null,
   "metadata": {},
   "outputs": [],
   "source": [
    "import numpy as np\n",
    "import tensorflow as tf\n",
    "from sklearn.model_selection import KFold\n",
    "from sklearn.preprocessing import LabelEncoder\n",
    "from sklearn.model_selection import train_test_split\n",
    "\n",
    "shuffled_dataset = dataframe.sample(frac=1, random_state=1234).reset_index(drop=True)\n",
    "\n",
    "dataset_paths = shuffled_dataset['path'].to_numpy()\n",
    "dataset_labels = shuffled_dataset['label'].to_numpy()\n",
    "\n",
    "total_train_paths, test_paths, total_train_labels, test_labels = train_test_split(\n",
    "    dataset_paths, dataset_labels, test_size=0.2, random_state=1234\n",
    ")\n",
    "\n",
    "# We need to convert from string labels to integers\n",
    "label_encoder = LabelEncoder()\n",
    "label_encoder.fit(dataset_labels)\n",
    "total_train_labels = label_encoder.transform(total_train_labels)\n",
    "test_labels = label_encoder.transform(test_labels)\n",
    "\n",
    "NB_EPOCHS = 4\n",
    "\n",
    "train_losses = []\n",
    "train_accuracies = []\n",
    "val_losses = []\n",
    "val_accuracies = []\n",
    "\n",
    "for train_index, val_index in KFold(n_splits=5).split(total_train_paths, total_train_labels):\n",
    "    train_images = open_images(total_train_paths[train_index])    \n",
    "    train_labels = total_train_labels[train_index]\n",
    "    \n",
    "    val_images = open_images(total_train_paths[val_index])\n",
    "    val_labels = total_train_labels[val_index]\n",
    "    \n",
    "    model = get_model() # We reinitialize the model\n",
    "    \n",
    "    history = model.fit(\n",
    "        x=train_images,\n",
    "        y=train_labels,\n",
    "        batch_size=32,\n",
    "        validation_data=[val_images, val_labels],\n",
    "        epochs=NB_EPOCHS,\n",
    "    )\n",
    "    \n",
    "    train_losses.append(history.history['loss'])\n",
    "    val_losses.append(history.history['val_loss'])\n",
    "    train_accuracies.append(history.history['acc'])\n",
    "    val_accuracies.append(history.history['val_acc'])"
   ]
  },
  {
   "cell_type": "code",
   "execution_count": null,
   "metadata": {},
   "outputs": [],
   "source": [
    "def plot_kfold_mean_performance(ax, train_performances, val_performances, measure_name):\n",
    "    train_mean = np.mean(train_performances, axis=0)\n",
    "    val_mean = np.mean(val_performances, axis=0)\n",
    "    train_sd = np.std(train_performances, axis=0)\n",
    "    val_sd = np.std(val_performances, axis=0)\n",
    "    \n",
    "    ax.fill_between(np.arange(NB_EPOCHS), train_mean, train_mean+train_sd, facecolor='blue', alpha=0.5, label='Train')\n",
    "    ax.fill_between(np.arange(NB_EPOCHS), train_mean, train_mean-train_sd, facecolor='blue', alpha=0.5)\n",
    "\n",
    "    ax.fill_between(np.arange(NB_EPOCHS), val_mean, val_mean+val_sd, facecolor='orange', alpha=0.5, label='Val')\n",
    "    ax.fill_between(np.arange(NB_EPOCHS), val_mean, val_mean-val_sd, facecolor='orange', alpha=0.5)\n",
    "\n",
    "    ax.set_xticks(np.arange(NB_EPOCHS))\n",
    "\n",
    "    ax.set_ylabel(measure_name)\n",
    "    ax.set_xlabel('Number of epochs')\n",
    "    #pl.title(str(K)+'-fold CV with '+str(n)+' hidden neurons')\n",
    "    ax.legend()\n",
    "    ax.grid()\n"
   ]
  },
  {
   "cell_type": "code",
   "execution_count": null,
   "metadata": {},
   "outputs": [],
   "source": [
    "import matplotlib.pyplot as pl\n",
    "\n",
    "fig, axs = plt.subplots(2, 1, constrained_layout=True, figsize=(12,6))\n",
    "\n",
    "plot_kfold_mean_performance(axs[0], train_losses, val_losses, \"Loss\")\n",
    "plot_kfold_mean_performance(axs[1], train_accuracies, val_accuracies, \"Accuracy\")"
   ]
  },
  {
   "cell_type": "markdown",
   "metadata": {},
   "source": [
    "## Evaluate model on test set"
   ]
  },
  {
   "cell_type": "code",
   "execution_count": null,
   "metadata": {},
   "outputs": [],
   "source": [
    "# First retrain model on all the training data\n",
    "train_images = open_images(total_train_paths)    \n",
    "train_labels = total_train_labels\n",
    "\n",
    "model = get_model() # We reinitialize the model\n",
    "\n",
    "history = model.fit(\n",
    "    x=train_images,\n",
    "    y=train_labels,\n",
    "    batch_size=32,\n",
    "    epochs=NB_EPOCHS,\n",
    ")"
   ]
  },
  {
   "cell_type": "code",
   "execution_count": null,
   "metadata": {},
   "outputs": [],
   "source": [
    "# Empty a bit the memory\n",
    "import gc\n",
    "\n",
    "del train_images\n",
    "del train_labels\n",
    "gc.collect()"
   ]
  },
  {
   "cell_type": "code",
   "execution_count": null,
   "metadata": {},
   "outputs": [],
   "source": [
    "import sklearn.metrics as me\n",
    "\n",
    "test_images = open_images(test_paths)    \n",
    "\n",
    "pred = model.predict(test_images)\n",
    "pred = np.argmax(pred, axis=-1)\n",
    "\n",
    "test_confusion_matrix = me.confusion_matrix(test_labels, pred, labels=np.arange(len(QUERIES)))"
   ]
  },
  {
   "cell_type": "code",
   "execution_count": null,
   "metadata": {},
   "outputs": [],
   "source": [
    "confusion_matrix_display = me.ConfusionMatrixDisplay(\n",
    "    confusion_matrix=test_confusion_matrix,\n",
    "    display_labels=QUERIES,\n",
    ")\n",
    "\n",
    "confusion_matrix_display.plot(xticks_rotation='vertical')\n",
    "plt.show()"
   ]
  },
  {
   "cell_type": "code",
   "execution_count": null,
   "metadata": {},
   "outputs": [],
   "source": []
  }
 ],
 "metadata": {
  "accelerator": "GPU",
  "colab": {
   "collapsed_sections": [],
   "name": "TransferLearning.ipynb",
   "provenance": []
  },
  "kernelspec": {
   "display_name": "Python 3 (ipykernel)",
   "language": "python",
   "name": "python3"
  },
  "language_info": {
   "codemirror_mode": {
    "name": "ipython",
    "version": 3
   },
   "file_extension": ".py",
   "mimetype": "text/x-python",
   "name": "python",
   "nbconvert_exporter": "python",
   "pygments_lexer": "ipython3",
   "version": "3.9.7"
  }
 },
 "nbformat": 4,
 "nbformat_minor": 1
}
